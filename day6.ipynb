{
 "cells": [
  {
   "cell_type": "code",
   "execution_count": 1,
   "id": "6c5c57ff-68a6-4b72-8a04-8689c6e347f3",
   "metadata": {},
   "outputs": [
    {
     "name": "stdout",
     "output_type": "stream",
     "text": [
      "hi students\n",
      "india\n"
     ]
    }
   ],
   "source": [
    "num=99\n",
    "if (num>0):\n",
    "    print(\"hi students\")\n",
    "print(\"india\")\n",
    "\n"
   ]
  },
  {
   "cell_type": "code",
   "execution_count": 5,
   "id": "b6bb73b5-7dca-4d56-9f6b-8d624de5122c",
   "metadata": {},
   "outputs": [
    {
     "name": "stdin",
     "output_type": "stream",
     "text": [
      "enter the age: 22\n"
     ]
    },
    {
     "name": "stdout",
     "output_type": "stream",
     "text": [
      "eligible\n"
     ]
    }
   ],
   "source": [
    "person=int(input(\"enter the age:\"))\n",
    "limit=18\n",
    "if person>=limit:\n",
    "    print(\"eligible\")"
   ]
  },
  {
   "cell_type": "code",
   "execution_count": 5,
   "id": "c77eefe1-d646-43bf-90b3-463c3e17e695",
   "metadata": {},
   "outputs": [
    {
     "name": "stdin",
     "output_type": "stream",
     "text": [
      "enter a num: 6\n"
     ]
    },
    {
     "name": "stdout",
     "output_type": "stream",
     "text": [
      "6 is a even num\n",
      "after condition EXIT!!!!\n"
     ]
    }
   ],
   "source": [
    "num=int(input(\"enter a num:\"))\n",
    "if num%2==0: print(num,\"is a even num\")\n",
    "print(\"after condition EXIT!!!!\")"
   ]
  },
  {
   "cell_type": "code",
   "execution_count": 17,
   "id": "8804c4ea-878c-4b22-8a75-7a3d42f238b4",
   "metadata": {},
   "outputs": [
    {
     "name": "stdin",
     "output_type": "stream",
     "text": [
      "press any key: G\n"
     ]
    },
    {
     "name": "stdout",
     "output_type": "stream",
     "text": [
      "the user has entered character\n"
     ]
    }
   ],
   "source": [
    "char=input(\"press any key:\")\n",
    "if char.isalpha():\n",
    "    print(\"the user has entered character\")\n",
    "if char.isdigit():\n",
    "    print(\"the user has entered digit\")\n",
    "if char.isspace():    \n",
    "    print(\"the user has entered space\")"
   ]
  },
  {
   "cell_type": "code",
   "execution_count": 21,
   "id": "ebf610cd-7c21-4599-9d7e-df27e482b033",
   "metadata": {},
   "outputs": [
    {
     "name": "stdin",
     "output_type": "stream",
     "text": [
      "enter the age: 18\n"
     ]
    },
    {
     "name": "stdout",
     "output_type": "stream",
     "text": [
      "eligible\n"
     ]
    }
   ],
   "source": [
    "person=int(input(\"enter the age:\"))\n",
    "limit=18\n",
    "if person>=limit:\n",
    "    print(\"eligible\")\n",
    "else:\n",
    "    print(\"not eligible\")"
   ]
  },
  {
   "cell_type": "code",
   "execution_count": 25,
   "id": "d7aba99d-a982-46ca-98c0-f35f675c847a",
   "metadata": {},
   "outputs": [
    {
     "name": "stdout",
     "output_type": "stream",
     "text": [
      "-99 is smallest\n"
     ]
    }
   ],
   "source": [
    "a=-4\n",
    "b=-99\n",
    "if (a<b):\n",
    "    prit(a,\" is smallest\")\n",
    "else:\n",
    "    print(b,\"is smallest\") "
   ]
  },
  {
   "cell_type": "code",
   "execution_count": 32,
   "id": "55d6cb0c-0ed3-409a-9b9f-a8f2498f0be7",
   "metadata": {},
   "outputs": [
    {
     "name": "stdin",
     "output_type": "stream",
     "text": [
      "enter any character from a to z S\n"
     ]
    },
    {
     "name": "stdout",
     "output_type": "stream",
     "text": [
      "converted case of input char: s\n"
     ]
    }
   ],
   "source": [
    "ch=input(\"enter any character from a to z\")\n",
    "if ch>='A' and ch<='Z':\n",
    "    ch=ch.lower()\n",
    "    print(\"converted case of input char:\",ch)\n",
    "else:\n",
    "    ch=ch.upper()\n",
    "    print(\"converted case of input char:\",ch)\n"
   ]
  },
  {
   "cell_type": "code",
   "execution_count": 48,
   "id": "c993b4cd-a1b5-40ea-be50-03cd37d1febb",
   "metadata": {},
   "outputs": [
    {
     "name": "stdin",
     "output_type": "stream",
     "text": [
      "enter a year: 2020\n"
     ]
    },
    {
     "name": "stdout",
     "output_type": "stream",
     "text": [
      "the gien year is leap year and centurian\n"
     ]
    }
   ],
   "source": [
    "a=int(input(\"enter a year:\"))\n",
    "if a%4==0 or a%100==0 or a%400==0:\n",
    "    print(\"the gien year is leap year and centurian\")\n",
    "else:\n",
    "    print(\"the given year is not a leap year and centurian\")"
   ]
  },
  {
   "cell_type": "code",
   "execution_count": 54,
   "id": "6ba96b25-e712-4618-8ce0-5e38c9adaf6b",
   "metadata": {},
   "outputs": [
    {
     "name": "stdin",
     "output_type": "stream",
     "text": [
      "enter a num: 0\n"
     ]
    },
    {
     "name": "stdout",
     "output_type": "stream",
     "text": [
      "num is zero\n"
     ]
    }
   ],
   "source": [
    "num=int(input(\"enter a num:\"))\n",
    "if num>0:\n",
    "    print(\"num is positive\")\n",
    "elif num<0:\n",
    "    print(\"num is negative\")\n",
    "else:\n",
    "    print(\"num is zero\")\n",
    "    "
   ]
  },
  {
   "cell_type": "code",
   "execution_count": null,
   "id": "0ef12221-1d88-4bc4-b872-021b49715c87",
   "metadata": {},
   "outputs": [],
   "source": []
  }
 ],
 "metadata": {
  "kernelspec": {
   "display_name": "Python 3 (ipykernel)",
   "language": "python",
   "name": "python3"
  },
  "language_info": {
   "codemirror_mode": {
    "name": "ipython",
    "version": 3
   },
   "file_extension": ".py",
   "mimetype": "text/x-python",
   "name": "python",
   "nbconvert_exporter": "python",
   "pygments_lexer": "ipython3",
   "version": "3.12.7"
  }
 },
 "nbformat": 4,
 "nbformat_minor": 5
}
