{
 "cells": [
  {
   "cell_type": "code",
   "execution_count": 1,
   "id": "3ba5b64b-069d-4dd9-a5e2-3f456ea78bff",
   "metadata": {},
   "outputs": [
    {
     "name": "stdin",
     "output_type": "stream",
     "text": [
      "enter terms: 9\n"
     ]
    },
    {
     "name": "stdout",
     "output_type": "stream",
     "text": [
      "0 1 1 2 3 5 8 13 21 "
     ]
    }
   ],
   "source": [
    "#fibonacci 1 1 2 3 5 8 13 21 34 55\n",
    "def fib(n):\n",
    "    if n<=1:\n",
    "        return n\n",
    "    else:\n",
    "        return fib(n-1)+fib(n-2)\n",
    "num=int(input(\"enter terms:\"))\n",
    "for i in range(num):\n",
    "    print(fib(i),end=' ')"
   ]
  },
  {
   "cell_type": "code",
   "execution_count": 3,
   "id": "7c6c7e68-56bb-4343-9141-1f0af62b6255",
   "metadata": {},
   "outputs": [
    {
     "name": "stdin",
     "output_type": "stream",
     "text": [
      "enter terms: 6\n"
     ]
    },
    {
     "name": "stdout",
     "output_type": "stream",
     "text": [
      "0 1 1 2 3 5 "
     ]
    }
   ],
   "source": [
    "def fib(n):\n",
    "    if n<=1:\n",
    "        return n\n",
    "    else:\n",
    "        return fib(n-1)+fib(n-2)\n",
    "num=int(input(\"enter terms:\"))\n",
    "for i in range(num):\n",
    "    print(fib(i),end=' ')"
   ]
  },
  {
   "cell_type": "code",
   "execution_count": 5,
   "id": "85fb57a7-d73e-4df0-ba19-ed7c0789f7be",
   "metadata": {},
   "outputs": [
    {
     "name": "stdin",
     "output_type": "stream",
     "text": [
      "enter a 4 digit number: 1117\n"
     ]
    },
    {
     "name": "stdout",
     "output_type": "stream",
     "text": [
      "sum of digits: 10\n"
     ]
    }
   ],
   "source": [
    "def dsum(n):\n",
    "    if n==0:\n",
    "        return 0\n",
    "    return n%10 + temp(n//10)\n",
    "def temp(n):\n",
    "    return dsum(n)\n",
    "num=int(input(\"enter a 4 digit number:\"))\n",
    "print(\"sum of digits:\",dsum(num))"
   ]
  },
  {
   "cell_type": "code",
   "execution_count": null,
   "id": "38ab35a5-6c77-42e9-9250-5dfe0d520155",
   "metadata": {},
   "outputs": [],
   "source": []
  }
 ],
 "metadata": {
  "kernelspec": {
   "display_name": "Python 3 (ipykernel)",
   "language": "python",
   "name": "python3"
  },
  "language_info": {
   "codemirror_mode": {
    "name": "ipython",
    "version": 3
   },
   "file_extension": ".py",
   "mimetype": "text/x-python",
   "name": "python",
   "nbconvert_exporter": "python",
   "pygments_lexer": "ipython3",
   "version": "3.12.7"
  }
 },
 "nbformat": 4,
 "nbformat_minor": 5
}
