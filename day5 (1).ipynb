{
 "cells": [
  {
   "cell_type": "code",
   "execution_count": 3,
   "id": "0d86464e-29e0-4415-ab1c-a9f447ce107a",
   "metadata": {},
   "outputs": [
    {
     "name": "stdin",
     "output_type": "stream",
     "text": [
      "enter the value of a: 2\n",
      "enter the value of b: 3\n",
      "enter the value of c: 1\n",
      "enter the value of x: 4\n"
     ]
    },
    {
     "name": "stdout",
     "output_type": "stream",
     "text": [
      "the rseult of the equation is 45\n"
     ]
    }
   ],
   "source": [
    "#program for basic operations by taking user input of an equation\n",
    "#\n",
    "a=int(input(\"enter the value of a:\"))\n",
    "b=int(input(\"enter the value of b:\"))\n",
    "c=int(input(\"enter the value of c:\"))\n",
    "x=int(input(\"enter the value of x:\"))\n",
    "result=a*(x**2)+b*x+c\n",
    "print(\"the rseult of the equation is\",result)"
   ]
  },
  {
   "cell_type": "code",
   "execution_count": 5,
   "id": "3d6b535b-8a97-4cb6-9889-1f38ad3f681d",
   "metadata": {},
   "outputs": [
    {
     "name": "stdin",
     "output_type": "stream",
     "text": [
      "enter the value of a: 4\n",
      "enter the value of b: 6\n",
      "enter the value of c: 7\n",
      "enter the value of x: 1\n"
     ]
    },
    {
     "name": "stdout",
     "output_type": "stream",
     "text": [
      "the rseult of the equation is 17\n"
     ]
    }
   ],
   "source": [
    "a=int(input(\"enter the value of a:\"))\n",
    "b=int(input(\"enter the value of b:\"))\n",
    "c=int(input(\"enter the value of c:\"))\n",
    "x=int(input(\"enter the value of x:\"))\n",
    "result=a*(x**2)+b*x+c\n",
    "print(\"the rseult of the equation is\",result)"
   ]
  },
  {
   "cell_type": "code",
   "execution_count": 1,
   "id": "a97e5c5d-b2ca-47b8-9700-7364bcf108f3",
   "metadata": {},
   "outputs": [
    {
     "name": "stdout",
     "output_type": "stream",
     "text": [
      "befor swapping 1 2\n",
      "after swapping 2 1\n"
     ]
    }
   ],
   "source": [
    "#swapping numbers(tuple swapping)\n",
    "a=1\n",
    "b=2\n",
    "print(\"befor swapping\",a,b)\n",
    "a,b=b,a\n",
    "print(\"after swapping\",a,b)"
   ]
  },
  {
   "cell_type": "code",
   "execution_count": 3,
   "id": "bc4975aa-dfa4-45fe-979b-c5d18e37ff2c",
   "metadata": {},
   "outputs": [
    {
     "name": "stdin",
     "output_type": "stream",
     "text": [
      "enter the valu eof a: 77\n",
      "enter the valu eof b: -88\n"
     ]
    },
    {
     "name": "stdout",
     "output_type": "stream",
     "text": [
      "before swap 77 -88\n",
      "after swap -88 77\n"
     ]
    }
   ],
   "source": [
    "#swapping with temp variable\n",
    "a=int(input(\"enter the value of a:\"))\n",
    "b=int(input(\"enter the value of b:\"))\n",
    "print(\"before swap\",a,b)\n",
    "temp=a\n",
    "a=b\n",
    "b=temp\n",
    "print(\"after swap\",a,b)\n"
   ]
  },
  {
   "cell_type": "code",
   "execution_count": 7,
   "id": "e2f10641-adfb-4f6f-9500-66c86a5e88a8",
   "metadata": {},
   "outputs": [
    {
     "name": "stdin",
     "output_type": "stream",
     "text": [
      "enter the valu eof a: 33\n",
      "enter the valu eof b: 9\n"
     ]
    },
    {
     "name": "stdout",
     "output_type": "stream",
     "text": [
      "before swapping a=  33 b=  9\n",
      "after swapping a=  9 b=  33\n"
     ]
    }
   ],
   "source": [
    "#swapping using arithematic operations + -\n",
    "a=int(input(\"enter the value of a:\"))\n",
    "b=int(input(\"enter the value of b:\"))\n",
    "print(\"before swapping a= \",a,\"b= \",b)\n",
    "a=a+b\n",
    "b=a-b\n",
    "a=a-b\n",
    "print(\"after swapping a= \", a,\"b= \",b)"
   ]
  },
  {
   "cell_type": "code",
   "execution_count": 9,
   "id": "3a1b68eb-d7c9-4a36-b574-3348e4e8cef0",
   "metadata": {},
   "outputs": [
    {
     "name": "stdin",
     "output_type": "stream",
     "text": [
      "enter the value of a: 33\n",
      "enter the value of b: 11\n"
     ]
    },
    {
     "name": "stdout",
     "output_type": "stream",
     "text": [
      "before swapping a=  33 b=  11\n",
      "after swapping a=  11 b=  33\n"
     ]
    }
   ],
   "source": [
    "#swapping using arithematic operations */\n",
    "a=int(input(\"enter the value of a:\"))\n",
    "b=int(input(\"enter the value of b:\"))\n",
    "print(\"before swapping a= \",a,\"b= \",b)\n",
    "a=a*b\n",
    "b=a/b\n",
    "a=a/b\n",
    "print(\"after swapping a= \",round(a),\"b= \",round(b))"
   ]
  },
  {
   "cell_type": "code",
   "execution_count": 11,
   "id": "cbd194a0-0651-40ab-921a-dea8209d7485",
   "metadata": {},
   "outputs": [
    {
     "name": "stdin",
     "output_type": "stream",
     "text": [
      "enter the value of a: 7\n",
      "enter the value of b: 8\n"
     ]
    },
    {
     "name": "stdout",
     "output_type": "stream",
     "text": [
      "before swapping a=  7 b=  8\n",
      "after swapping a=  8 b=  7\n"
     ]
    }
   ],
   "source": [
    "#swapping using xor\n",
    "a=int(input(\"enter the value of a:\"))\n",
    "b=int(input(\"enter the value of b:\"))\n",
    "print(\"before swapping a= \",a,\"b= \",b)\n",
    "a=a^b\n",
    "b=a^b\n",
    "a=a^b\n",
    "print(\"after swapping a= \", a,\"b= \",b)"
   ]
  },
  {
   "cell_type": "code",
   "execution_count": 15,
   "id": "52f1698c-7e72-4455-b2d8-47e2d85745b7",
   "metadata": {},
   "outputs": [
    {
     "name": "stdin",
     "output_type": "stream",
     "text": [
      "enter the value: 7.5\n"
     ]
    },
    {
     "name": "stdout",
     "output_type": "stream",
     "text": [
      "176.7144375\n",
      "47.12385\n"
     ]
    }
   ],
   "source": [
    "'''calculation of area and circumference of a circle by taking a manual radius and assignin te pi value with 3.2=14159 r=7.5'''\n",
    "r=float(input(\"enter the value:\"))\n",
    "pi=3.14159\n",
    "area=(pi*(r**2))\n",
    "cir=2*pi*r\n",
    "print(area)\n",
    "print(cir)"
   ]
  },
  {
   "cell_type": "code",
   "execution_count": 17,
   "id": "c4bfb86b-3eb8-4be8-bf95-84968413e6ac",
   "metadata": {},
   "outputs": [
    {
     "name": "stdin",
     "output_type": "stream",
     "text": [
      "enter the radius: 7.5\n"
     ]
    },
    {
     "name": "stdout",
     "output_type": "stream",
     "text": [
      "176.71458676442586\n",
      "47.12388980384689\n"
     ]
    }
   ],
   "source": [
    "from math import pi\n",
    "r=float(input(\"enter the radius:\"))\n",
    "a=pi*(r**2)\n",
    "c=2*pi*r\n",
    "print(a)\n",
    "print(c)"
   ]
  },
  {
   "cell_type": "code",
   "execution_count": 19,
   "id": "feeaa768-7c34-41a7-8bfa-52501a51cad6",
   "metadata": {},
   "outputs": [
    {
     "name": "stdout",
     "output_type": "stream",
     "text": [
      "2.718281828459045\n"
     ]
    }
   ],
   "source": [
    "from math import e\n",
    "print(e)"
   ]
  },
  {
   "cell_type": "code",
   "execution_count": 21,
   "id": "e60bd93a-5976-4c95-9d92-2cfcd4bb3cd4",
   "metadata": {},
   "outputs": [
    {
     "name": "stdout",
     "output_type": "stream",
     "text": [
      "4.0\n",
      "8.0\n"
     ]
    }
   ],
   "source": [
    "#power and sqrt\n",
    "from math import sqrt, pow\n",
    "n=16\n",
    "print(sqrt(n))\n",
    "print(pow(2,3))"
   ]
  },
  {
   "cell_type": "code",
   "execution_count": 25,
   "id": "587ce212-d265-43e4-9d28-42094b61bdb2",
   "metadata": {},
   "outputs": [
    {
     "name": "stdout",
     "output_type": "stream",
     "text": [
      "sin: 0.49999999999999994\n",
      "cos: 0.8660254037844387\n",
      "tan: 0.5773502691896257\n"
     ]
    }
   ],
   "source": [
    "#trigonometric functions\n",
    "from math import sin,cos,tan,radians\n",
    "angle=30\n",
    "print(\"sin:\",sin(radians(angle)))\n",
    "print(\"cos:\",cos(radians(angle)))\n",
    "print(\"tan:\",tan(radians(angle)))"
   ]
  },
  {
   "cell_type": "code",
   "execution_count": 29,
   "id": "4f9e2496-92b8-4587-959f-6ed2bed088b4",
   "metadata": {},
   "outputs": [
    {
     "name": "stdout",
     "output_type": "stream",
     "text": [
      "floor: 7\n",
      "ceil: 8\n"
     ]
    }
   ],
   "source": [
    "from math import floor,ceil\n",
    "num=7.3\n",
    "print(\"floor:\",floor(num))\n",
    "print(\"ceil:\",ceil(num))"
   ]
  },
  {
   "cell_type": "code",
   "execution_count": 31,
   "id": "7d13c9b2-5f0b-47af-9eb1-ad9826b24021",
   "metadata": {},
   "outputs": [
    {
     "name": "stdout",
     "output_type": "stream",
     "text": [
      "natural log: 1.0\n",
      "log base 10 of 100: 2.0\n",
      "e to the power 2: 7.38905609893065\n"
     ]
    }
   ],
   "source": [
    "from math import log, log10, exp\n",
    "print(\"natural log:\",log(e))\n",
    "print(\"log base 10 of 100:\",log10(100))\n",
    "print(\"e to the power 2:\",exp(2))"
   ]
  },
  {
   "cell_type": "code",
   "execution_count": 33,
   "id": "4d45b0b7-3b64-4227-9b54-8976968bd79b",
   "metadata": {},
   "outputs": [
    {
     "name": "stdout",
     "output_type": "stream",
     "text": [
      "current time: 2025-05-09 11:17:02.035533\n",
      "date: 2025-05-09\n",
      "time: 11:17:02.035533\n"
     ]
    }
   ],
   "source": [
    "#date time and calendar epoch time\n",
    "from datetime import datetime\n",
    "now=datetime.now()\n",
    "print(\"current time:\",now)\n",
    "print(\"date:\",now.date())\n",
    "print(\"time:\",now.time())"
   ]
  },
  {
   "cell_type": "code",
   "execution_count": 35,
   "id": "89aa3285-266a-4476-a2d6-5be65af0ee3a",
   "metadata": {},
   "outputs": [
    {
     "name": "stdout",
     "output_type": "stream",
     "text": [
      "      May 2025\n",
      "Mo Tu We Th Fr Sa Su\n",
      "          1  2  3  4\n",
      " 5  6  7  8  9 10 11\n",
      "12 13 14 15 16 17 18\n",
      "19 20 21 22 23 24 25\n",
      "26 27 28 29 30 31\n",
      "\n"
     ]
    }
   ],
   "source": [
    "import calendar \n",
    "print(calendar.month(2025,5))\n"
   ]
  },
  {
   "cell_type": "code",
   "execution_count": 37,
   "id": "4a2fa0fd-747d-4023-a765-a3188307e01a",
   "metadata": {},
   "outputs": [
    {
     "name": "stdout",
     "output_type": "stream",
     "text": [
      "                                  2025\n",
      "\n",
      "      January                   February                   March\n",
      "Mo Tu We Th Fr Sa Su      Mo Tu We Th Fr Sa Su      Mo Tu We Th Fr Sa Su\n",
      "       1  2  3  4  5                      1  2                      1  2\n",
      " 6  7  8  9 10 11 12       3  4  5  6  7  8  9       3  4  5  6  7  8  9\n",
      "13 14 15 16 17 18 19      10 11 12 13 14 15 16      10 11 12 13 14 15 16\n",
      "20 21 22 23 24 25 26      17 18 19 20 21 22 23      17 18 19 20 21 22 23\n",
      "27 28 29 30 31            24 25 26 27 28            24 25 26 27 28 29 30\n",
      "                                                    31\n",
      "\n",
      "       April                      May                       June\n",
      "Mo Tu We Th Fr Sa Su      Mo Tu We Th Fr Sa Su      Mo Tu We Th Fr Sa Su\n",
      "    1  2  3  4  5  6                1  2  3  4                         1\n",
      " 7  8  9 10 11 12 13       5  6  7  8  9 10 11       2  3  4  5  6  7  8\n",
      "14 15 16 17 18 19 20      12 13 14 15 16 17 18       9 10 11 12 13 14 15\n",
      "21 22 23 24 25 26 27      19 20 21 22 23 24 25      16 17 18 19 20 21 22\n",
      "28 29 30                  26 27 28 29 30 31         23 24 25 26 27 28 29\n",
      "                                                    30\n",
      "\n",
      "        July                     August                  September\n",
      "Mo Tu We Th Fr Sa Su      Mo Tu We Th Fr Sa Su      Mo Tu We Th Fr Sa Su\n",
      "    1  2  3  4  5  6                   1  2  3       1  2  3  4  5  6  7\n",
      " 7  8  9 10 11 12 13       4  5  6  7  8  9 10       8  9 10 11 12 13 14\n",
      "14 15 16 17 18 19 20      11 12 13 14 15 16 17      15 16 17 18 19 20 21\n",
      "21 22 23 24 25 26 27      18 19 20 21 22 23 24      22 23 24 25 26 27 28\n",
      "28 29 30 31               25 26 27 28 29 30 31      29 30\n",
      "\n",
      "      October                   November                  December\n",
      "Mo Tu We Th Fr Sa Su      Mo Tu We Th Fr Sa Su      Mo Tu We Th Fr Sa Su\n",
      "       1  2  3  4  5                      1  2       1  2  3  4  5  6  7\n",
      " 6  7  8  9 10 11 12       3  4  5  6  7  8  9       8  9 10 11 12 13 14\n",
      "13 14 15 16 17 18 19      10 11 12 13 14 15 16      15 16 17 18 19 20 21\n",
      "20 21 22 23 24 25 26      17 18 19 20 21 22 23      22 23 24 25 26 27 28\n",
      "27 28 29 30 31            24 25 26 27 28 29 30      29 30 31\n",
      "\n"
     ]
    }
   ],
   "source": [
    "import calendar \n",
    "year=2025\n",
    "print(calendar.calendar(year))"
   ]
  },
  {
   "cell_type": "code",
   "execution_count": 43,
   "id": "3b1bf232-a957-4cf2-a664-b0412e78b77b",
   "metadata": {},
   "outputs": [
    {
     "name": "stdout",
     "output_type": "stream",
     "text": [
      "is leap year False\n"
     ]
    }
   ],
   "source": [
    "import calendar\n",
    "year=1994\n",
    "print(\"is leap year\",calendar.isleap(year))"
   ]
  },
  {
   "cell_type": "code",
   "execution_count": 45,
   "id": "852bd4f9-771e-492f-8553-711085564980",
   "metadata": {},
   "outputs": [
    {
     "name": "stdout",
     "output_type": "stream",
     "text": [
      "25 "
     ]
    }
   ],
   "source": [
    "import calendar\n",
    "leaps=calendar.leapdays(1925,2025)\n",
    "print(leaps,end=' ')"
   ]
  },
  {
   "cell_type": "code",
   "execution_count": 47,
   "id": "2a77f1e6-ca2c-4620-830b-0e7e114cd9e8",
   "metadata": {},
   "outputs": [
    {
     "name": "stdout",
     "output_type": "stream",
     "text": [
      "difference in dates: 128\n"
     ]
    }
   ],
   "source": [
    "#dates difference\n",
    "from datetime import date\n",
    "d1=date(2025,5,9)\n",
    "d2=date(2025,1,1)\n",
    "diff=d1-d2\n",
    "print(\"difference in dates:\",diff.days)\n"
   ]
  },
  {
   "cell_type": "code",
   "execution_count": 53,
   "id": "9251ceab-35c5-42e8-b3e8-18cd00e23bb0",
   "metadata": {},
   "outputs": [
    {
     "name": "stdout",
     "output_type": "stream",
     "text": [
      "today: Friday\n"
     ]
    }
   ],
   "source": [
    "#day abbrevation\n",
    "from datetime import date\n",
    "today=date.today()\n",
    "name=today.strftime(\"%A\")\n",
    "print(\"today:\",name)"
   ]
  },
  {
   "cell_type": "code",
   "execution_count": null,
   "id": "5c63d63c-d310-45fe-8b02-3854c391c818",
   "metadata": {},
   "outputs": [],
   "source": []
  }
 ],
 "metadata": {
  "kernelspec": {
   "display_name": "Python 3 (ipykernel)",
   "language": "python",
   "name": "python3"
  },
  "language_info": {
   "codemirror_mode": {
    "name": "ipython",
    "version": 3
   },
   "file_extension": ".py",
   "mimetype": "text/x-python",
   "name": "python",
   "nbconvert_exporter": "python",
   "pygments_lexer": "ipython3",
   "version": "3.12.7"
  }
 },
 "nbformat": 4,
 "nbformat_minor": 5
}
